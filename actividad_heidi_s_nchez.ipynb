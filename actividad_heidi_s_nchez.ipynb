{
  "nbformat": 4,
  "nbformat_minor": 0,
  "metadata": {
    "colab": {
      "provenance": [],
      "authorship_tag": "ABX9TyNhALWY4NVKLfGO1+eLmTQy",
      "include_colab_link": true
    },
    "kernelspec": {
      "name": "python3",
      "display_name": "Python 3"
    },
    "language_info": {
      "name": "python"
    }
  },
  "cells": [
    {
      "cell_type": "markdown",
      "metadata": {
        "id": "view-in-github",
        "colab_type": "text"
      },
      "source": [
        "<a href=\"https://colab.research.google.com/github/heidiqueen1/ejercicios_colaboratory/blob/main/actividad_heidi_s_nchez.ipynb\" target=\"_parent\"><img src=\"https://colab.research.google.com/assets/colab-badge.svg\" alt=\"Open In Colab\"/></a>"
      ]
    },
    {
      "cell_type": "code",
      "execution_count": null,
      "metadata": {
        "colab": {
          "base_uri": "https://localhost:8080/",
          "height": 105
        },
        "id": "qKPN5RHR251x",
        "outputId": "bbf26b2f-55c1-4a77-ac15-7cd193b06a14"
      },
      "outputs": [
        {
          "output_type": "execute_result",
          "data": {
            "text/plain": [
              "'\\nCrear un nuevo repositorio en tu Github para almacenar este y sucesivos proyectos del curso\\nCrea un nuevo archivo .py\\nDefine una variable de cada tipo de primitivo\\nConcatena a la cadena las otras variables aplicando la conversión correcta para funcionar, guarda el resultado en una variable\\nInvestiga sobre el límite de los enteros y los flotantes en python y anotar sus descubrimientos como comentarios en el archivo\\nAplica la fórmula de la suma de los primeros n números pares (investigar), tomando como n la variable de tipo entero y almacenar el resultado en una variable\\nImprimir los resultados de las tareas anteriores\\nEnvía el link del archivo en el repositorio con las respuesta\\n'"
            ],
            "application/vnd.google.colaboratory.intrinsic+json": {
              "type": "string"
            }
          },
          "metadata": {},
          "execution_count": 3
        }
      ],
      "source": [
        "\"\"\"\n",
        "Crear un nuevo repositorio en tu Github para almacenar este y sucesivos proyectos del curso\n",
        "Crea un nuevo archivo .py\n",
        "1.Define una variable de cada tipo de primitivo\n",
        "2.Concatena a la cadena las otras variables aplicando la conversión correcta para funcionar, guarda el resultado en una variable\n",
        "3.Investiga sobre el límite de los enteros y los flotantes en python y anotar sus descubrimientos como comentarios en el archivo\n",
        "4.Aplica la fórmula de la suma de los primeros n números pares (investigar), tomando como n la variable de tipo entero y almacenar el resultado en una variable\n",
        "5.Imprimir los resultados de las tareas anteriores\n",
        "Envía el link del archivo en el repositorio con las respuesta\n",
        "\"\"\""
      ]
    },
    {
      "cell_type": "code",
      "source": [
        "#1 variables de tipo primitivo\n",
        "int_dos = 2\n",
        "float_dos = 2.3\n",
        "str_dos = \"Hello\"\n",
        "bool_dos = False\n",
        "\n",
        "contcat = print(int_dos, float_dos,str_dos, bool_dos)"
      ],
      "metadata": {
        "colab": {
          "base_uri": "https://localhost:8080/"
        },
        "id": "JC8sTR7c3Yhe",
        "outputId": "4588366d-803d-4654-e097-8091a48d1734"
      },
      "execution_count": null,
      "outputs": [
        {
          "output_type": "stream",
          "name": "stdout",
          "text": [
            "2 2.3 Hello False\n"
          ]
        }
      ]
    },
    {
      "cell_type": "code",
      "source": [
        "#Investiga sobre el límite de los enteros y los flotantes en python y anotar sus descubrimientos como comentarios en el archivo\n",
        "\n",
        "\"\"\"\n",
        "Python puede manejar infinitos enteros tantos como la memoria permita\n",
        "\"\"\""
      ],
      "metadata": {
        "id": "67ThlBDM3FKT"
      },
      "execution_count": null,
      "outputs": []
    },
    {
      "cell_type": "code",
      "source": [
        "# con este comando se puede saber los detalles de la representación de los números flotantes en tu s\n",
        "import sys\n",
        "print (sys.float_info)"
      ],
      "metadata": {
        "colab": {
          "base_uri": "https://localhost:8080/"
        },
        "id": "4IcUMHaM6irS",
        "outputId": "6b77d587-eccd-4efd-966c-09274c337f02"
      },
      "execution_count": null,
      "outputs": [
        {
          "output_type": "stream",
          "name": "stdout",
          "text": [
            "sys.float_info(max=1.7976931348623157e+308, max_exp=1024, max_10_exp=308, min=2.2250738585072014e-308, min_exp=-1021, min_10_exp=-307, dig=15, mant_dig=53, epsilon=2.220446049250313e-16, radix=2, rounds=1)\n"
          ]
        }
      ]
    },
    {
      "cell_type": "code",
      "source": [
        "#Aplica la fórmula de la suma de los primeros n números pares (investigar), tomando como n la variable de tipo entero y almacenar el resultado en una variable\n",
        "\n",
        "n = int(input(\"ingrese el valor de n: \"))\n",
        "def suma_numeros_pares(n):\n",
        "    suma = n * (n + 1)\n",
        "    return suma\n",
        "    resultado = suma_numeros_pares(n)\n",
        "    print(f\"La suma de los primeros {n} numeros pares es : {resultado}\")\n",
        "\n",
        "suma_numeros_pares(n)\n",
        "\n"
      ],
      "metadata": {
        "colab": {
          "base_uri": "https://localhost:8080/"
        },
        "id": "DAz9CsIH7pii",
        "outputId": "f130e780-dceb-4cdb-bea5-8c1fdf72f184"
      },
      "execution_count": null,
      "outputs": [
        {
          "name": "stdout",
          "output_type": "stream",
          "text": [
            "ingrese el valor de n: 6\n"
          ]
        },
        {
          "output_type": "execute_result",
          "data": {
            "text/plain": [
              "42"
            ]
          },
          "metadata": {},
          "execution_count": 31
        }
      ]
    },
    {
      "cell_type": "code",
      "source": [
        "git remote add origin https://github.com/heidiqueen1/ejercicios_colaboratory.git\n",
        "  git branch -M main\n",
        "  git push -u origin main"
      ],
      "metadata": {
        "id": "Cvv094CpDtFj"
      },
      "execution_count": null,
      "outputs": []
    }
  ]
}